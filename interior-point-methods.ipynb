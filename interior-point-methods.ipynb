{
 "cells": [
  {
   "cell_type": "markdown",
   "metadata": {},
   "source": [
    "# Interior Point Methods For Linear Problems\n",
    "\n",
    "In this text, we will present alternative methods for the Simplex algorithm for solving linear problems. While Dantzig's simplex searches for solutions in the border of the feasible region, the so-called Interior Point methods follows its iterations inside the feasible region.\n",
    "\n",
    "Introducing the notation, our primal linear program will be:\n",
    "\n",
    "\\begin{align*}\n",
    "&\\min_{x} c^T x\\\\\n",
    "\\text{s. t. }&Ax=b\\\\\n",
    "&x\\geq 0\n",
    "\\end{align*}\n",
    "where $A$ is an $m\\times n$ matrix, and its dual version:\n",
    "\n",
    "$$\n",
    "\\max_{p} b^T p\\\\\n",
    "\\text{s. t. } A^Tp\\leq c$$\n",
    "\n",
    "\n",
    "## Affine Scaling Algorithm\n",
    "\n",
    "Affine Scaling is the most classical interior point algorithm. Instead of optimizing over the entire feasible region, we'll reduce the feasibility to an ellipsoid contained in it, then we can find an analytical solution, and iterate this whole process until we reach the optimal value within a tolerance that is calculated through the duality gap. The optimal value of an iteration is used as the center of the next feasible ellipsoid.\n",
    "\n",
    "Define the feasible region as $F=\\{x\\in \\mathbb{R}^n|Ax=b,x\\geq0\\}$, the subset of $F$ $\\{x\\in F|x>0\\}$ is called the set of interior points.\n",
    "\n",
    "Given $y>0$ a feasible and interior solution, the following lemma establishes a feasible ellipsoid $S$ centered in $y$.\n",
    "\n",
    "**Lemma 1:** Let $\\beta\\in(0,1)$ and $y>0$ and\n",
    "\n",
    "$$S=\\Big\\{x\\in\\mathbb{R}^n\\big|\\sum_{i=1}^n\\dfrac{(x_i-y_i)^2}{y_i^2}\\leq\\beta^2\\Big\\},$$\n",
    "\n",
    "then if $x\\in S$ then $x>0$.\n",
    "\n",
    "**Proof:** For a given $x\\in S$, we have for each $x_i$:\n",
    "\n",
    "$(x_i-y_i)^2\\leq y_i^2\\beta^2<y_i^2$, and since $y_i>0$ we can take the square root and get $|x_i-y_i|< y_i$ which implies $y_i-x_i< y_i$, where we conclude $x_i>0$. **Q.E.D**\n",
    "\n",
    "If we define $Y=diag(y_1,\\ldots,y_n)$ i.e, a diagonal matrix where the i-th entry is $y_i$, we can rewrite the ellipsoid inequation as:\n",
    "\n",
    "$$||Y^{-1}(x-y)||\\leq\\beta$$\n",
    "\n",
    "We can now redefine the problem to minimize over $S$:\n",
    "\n",
    "\\begin{align*}\n",
    "&\\min_{x} c^T x\\\\\n",
    "\\text{s. t. }&Ax=b\\\\\n",
    "&||Y^{-1}(x-y)||\\leq\\beta\n",
    "\\end{align*}\n",
    "\n",
    "Since $y$ is feasible, $Ay=b$, and we can define a new variable $d=x-y$, and modify the problem again:\n",
    "\n",
    "\\begin{align}\n",
    "&\\min_{x} c^T d\\\\\n",
    "\\text{s. t. }&Ad=0\\\\\n",
    "&||Y^{-1}d||\\leq\\beta\n",
    "\\end{align}"
   ]
  },
  {
   "cell_type": "markdown",
   "metadata": {},
   "source": [
    "The following lemma states an analytical solution for this problem guaranteeing that the optimal step $d$ keeps the point in the feasible set and the objective function is strictly minimized.\n",
    "\n",
    "**Lemma 2:** Assume $rank(A)=m$ and that $c\\notin span(A)$. Given $y>0$ the optimal solution of the above LP is:\n",
    "\n",
    "$$d^*=-\\beta\\dfrac{Y^2(c-A^Tp)}{||Y(c-A^Tp)||},$$\n",
    "\n",
    "where $$p=(AY^2A^T)^{-1}AY^2c.$$\n",
    "\n",
    "Furthermore, $x = y +d^*$ belongs to the feasible set $F$, and \n",
    "\n",
    "$$c^Tx<c^Ty$$\n",
    "\n",
    "**Proof:** The rank and span conditions in $A$ are linear algebra details to guarantee that $AY^2A^T$ is invertible and $p$ and $d^*$ are well-defined. Such details can be found in [[2]](#References), here we'll prove the feasibility and optimality of $d^*$ without worrying about this.\n",
    "\n",
    "To prove feasibility we need: $Ad^*=0$ and $||Y^-1d^*||\\leq\\beta$, for the first, we just need to show that $AY^2(c-A^Tp}=0:$\n",
    "\n",
    "\\begin{align*}\n",
    "AY^2(c-A^Tp)&=AY^2(c-A^T(AY^2A^T)^{-1}AY^2c)\\\\\n",
    "&=AY^2(c-A^T(A^T)^{-1}Y^{-2}A^{-1}AY^2c)\\\\\n",
    "&=AY^2(c-Y^{-2}Y^2c)\\\\\n",
    "&=AY^2(c-Ic)\\\\\n",
    "&=0\n",
    "\\end{align*}\n",
    "\n",
    "Since $Y^{-1}d^*=\\beta\\dfrac{Y(c-A^Tp)}{||Y(c-A^Tp)||}$, we can easily see that $||Y^{-1}d^*||=\\beta$, satisfying the constraint inequality.\n",
    "\n",
    "To prove optimatily, we take a feasible $d$, i.e, $Ad=0$ and $||Y^{-1}d||\\leq\\beta$. Using this and Schwarz inequality we can get:\n",
    "\n",
    "\\begin{align*}\n",
    "c^Td&=(c^T-p^TA)d\\\\\n",
    "&=(c^T-p^TA)YY^{-1}d\\\\\n",
    "&=(c-A^Tp)^TYY^{-1}d\\\\\n",
    "&\\geq-||Y(c-A^Tp)||\\cdot||Y^{-1}d||\\\\\n",
    "&\\geq-\\beta||Y(c-A^Tp)||\n",
    "\\end{align*}\n",
    "\n",
    "One can prove using the same strategy that $c^Td^*=-\\beta||Y(c-A^Tp)||$, proving that $d^*$ is optimal. Furthermore, the objective function is reduced:\n",
    "\\begin{align*}c^Tx&=c^T(y+d^*)\\\\&=c^Ty+c^Td^*\\\\&=c^Ty-\\beta||Y(c-A^Tp)||\\\\&<c^Ty\\end{align*}\n",
    "\n",
    "The feasibility of $x=y+d^*$ follows from Lemma 1.\n",
    "\n",
    "The reference [2](#References) also show that the $p$ from Lemma 2 is the dual feasible solution for $y$. Then can write the duality gap as:\n",
    "\n",
    "\\begin{align*}\n",
    "c^Ty-b^Tp&=c^Ty-(Ay)^Tp\\\\\n",
    "&=c^Ty-y^TA^Tp\\\\\n",
    "&=y^T(c-A^Tp)\n",
    "\\end{align*}\n",
    "\n",
    "We define $s=(c-A^Tp)$ as the dual slackness. Such a simple formula for the gap as $y^Ts$ give us direct way for computing stopping conditions, using minimum tolerance $\\varepsilon$ for this gap.\n",
    "\n",
    "The algorithm starts with a feasible solution $x^{(0)}$, computes the optimal value inside the ellipsoid centered at $x^{(0)}$ using the above concepts, and uses this value as the center for the next ellipsoid until we reach the duality gap tolerance."
   ]
  },
  {
   "cell_type": "markdown",
   "metadata": {},
   "source": [
    "The algorithm:\n",
    "\n",
    "**Inputs:** \n",
    "\n",
    "- the problem $(A,b,c)$\n",
    "- initial primal feasible value $x^{(0)}>0$\n",
    "- optimality tollerance $\\varepsilon$\n",
    "\n",
    "**1. (Initialization)** Starts iteration k=0, with the initial solution\n",
    "\n",
    "**2. (Dual Slackness computation)** Given $x^{(k)}>0$, sets\n",
    "\n",
    "\\begin{align*}X_k&=diag(x^{(k)}_1,\\ldots,x^{(k)}_n)\\\\\n",
    "p_k&=(AX_k^2A^T)^{-1}AX_k^2c\\\\\n",
    "s_k&=c-A^Tp_k\\end{align*}\n",
    "\n",
    "**3. (Optimatily check)** If $s_k>0$ and $s_k^Tx^{(k)}<\\varepsilon$, the stops the algorithm and outputs $x^{(k)}$ as the primal approximate optimal solution.\n",
    "\n",
    "**4. (Solution update)** Set\n",
    "\n",
    "$$x^{(k+1)}=x^{(k)}-\\beta \\dfrac{X^2_ks_k}{||X_ks_k||}$$\n"
   ]
  },
  {
   "cell_type": "code",
   "execution_count": 7,
   "metadata": {},
   "outputs": [
    {
     "data": {
      "text/plain": [
       "primal_dual (generic function with 1 method)"
      ]
     },
     "execution_count": 7,
     "metadata": {},
     "output_type": "execute_result"
    }
   ],
   "source": [
    "include(\"affine_scaling.jl\")\n",
    "include(\"primal_dual_path_following.jl\")"
   ]
  },
  {
   "cell_type": "code",
   "execution_count": 6,
   "metadata": {},
   "outputs": [
    {
     "data": {
      "text/plain": [
       "(Any[0.5, 0.7187950844181372, 0.9734094966818237, 1.1933722830280562, 1.3320452261278177, 1.4056266974356113, 1.4411665406665262, 1.4547122133512849, 1.4535224187951656, 1.4418639821832846  …  0.9999999841297713, 0.9999999905272314, 0.9999999905272314, 1.0000000007331245, 0.9999999849454431, 0.9999999605231927, 0.9999998849647512, 0.9999998849647512, 0.9999998849647512, 0.9999998849647512], Any[0.03, 0.030856006304916823, 0.03148269600921397, 0.03207421584417221, 0.03297425038316854, 0.03475132267562499, 0.03856451833888224, 0.04699699416086124, 0.06419302699234414, 0.09339642702423565  …  0.9999999838182723, 0.9999999795532989, 0.9999999927484283, 1.0000000080572677, 1.0000000159511087, 0.9999999915288568, 1.00000002930808, 1.0000000877494506, 1.0000000877494506, 1.0000000877494506])"
      ]
     },
     "execution_count": 6,
     "metadata": {},
     "output_type": "execute_result"
    }
   ],
   "source": [
    "using LinearAlgebra\n",
    "x1_traj, x2_traj = affine_scaling(c, A, b, x0)\n"
   ]
  },
  {
   "cell_type": "code",
   "execution_count": 2,
   "metadata": {},
   "outputs": [
    {
     "data": {
      "text/plain": [
       "2-element Vector{Int64}:\n",
       " 3\n",
       " 3"
      ]
     },
     "execution_count": 2,
     "metadata": {},
     "output_type": "execute_result"
    }
   ],
   "source": [
    "c = [-1, -1, 0, 0]\n",
    "A = [1 2 1 0 ;\n",
    "     2 1 0 1 ]\n",
    "b = [3, 3]"
   ]
  },
  {
   "cell_type": "code",
   "execution_count": 3,
   "metadata": {},
   "outputs": [
    {
     "data": {
      "text/plain": [
       "4-element Vector{Float64}:\n",
       " 0.5\n",
       " 0.03\n",
       " 2.44\n",
       " 1.97"
      ]
     },
     "execution_count": 3,
     "metadata": {},
     "output_type": "execute_result"
    }
   ],
   "source": [
    "# x1_traj, x2_traj = affine_scaling(c, A, b, x0)\n",
    "# Initial Starting Solution\n",
    "x1 = 0.5\n",
    "x2 = 0.03\n",
    "# x0 = [0.5, 0.03, 2.44, 1.97]\n",
    "x0 = [x1, x2, 3-x1-2*x2, 3-2*x1-x2]"
   ]
  },
  {
   "cell_type": "code",
   "execution_count": 3,
   "metadata": {},
   "outputs": [
    {
     "data": {
      "text/plain": [
       "(Any[0.5, 0.7187950844181372, 0.9734094966818237, 1.1933722830280562, 1.3320452261278177, 1.4056266974356113, 1.4411665406665262, 1.4547122133512849, 1.4535224187951656, 1.4418639821832846  …  0.9999999841297713, 0.9999999905272314, 0.9999999905272314, 1.0000000007331245, 0.9999999849454431, 0.9999999605231927, 0.9999998849647512, 0.9999998849647512, 0.9999998849647512, 0.9999998849647512], Any[0.03, 0.030856006304916823, 0.03148269600921397, 0.03207421584417221, 0.03297425038316854, 0.03475132267562499, 0.03856451833888224, 0.04699699416086124, 0.06419302699234414, 0.09339642702423565  …  0.9999999838182723, 0.9999999795532989, 0.9999999927484283, 1.0000000080572677, 1.0000000159511087, 0.9999999915288568, 1.00000002930808, 1.0000000877494506, 1.0000000877494506, 1.0000000877494506])"
      ]
     },
     "execution_count": 3,
     "metadata": {},
     "output_type": "execute_result"
    }
   ],
   "source": []
  },
  {
   "cell_type": "code",
   "execution_count": 5,
   "metadata": {},
   "outputs": [
    {
     "data": {
      "text/plain": [
       "2-element Vector{Float64}:\n",
       " 2.44\n",
       " 1.97"
      ]
     },
     "execution_count": 5,
     "metadata": {},
     "output_type": "execute_result"
    }
   ],
   "source": [
    "m = size(A,1)\n",
    "# A\\zeros(n,1)\n",
    "b-A*[0.5;0.03;0;0]"
   ]
  },
  {
   "cell_type": "code",
   "execution_count": 7,
   "metadata": {},
   "outputs": [
    {
     "data": {
      "text/plain": [
       "4-element Vector{Int64}:\n",
       " 2\n",
       " 2\n",
       " 1\n",
       " 1"
      ]
     },
     "execution_count": 7,
     "metadata": {},
     "output_type": "execute_result"
    }
   ],
   "source": [
    "p0=[-1;-1]\n",
    "x = x0\n",
    "p = p0\n",
    "s = c-A'*p\n",
    "rho=0.5\n",
    "n = size(A,2)\n",
    "m = size(b,1)\n",
    "e = ones(size(x,1),1)\n",
    "\n",
    "\n",
    "# Newton's Step\n",
    "mu = rho*dot(x,s)/m\n",
    "X = Diagonal(x)\n",
    "S = Diagonal(s)\n",
    "LHS =  [A zeros(m,m) zeros(m,n);\n",
    "     zeros(n,n) A' I;\n",
    "    S zeros(n,m) X]\n",
    "RHS = [zeros(n,1); zeros(m,1); mu*e-X*S*e]\n",
    "LHS\n",
    "dot(s,x)\n",
    "s"
   ]
  },
  {
   "cell_type": "code",
   "execution_count": 8,
   "metadata": {},
   "outputs": [
    {
     "ename": "LoadError",
     "evalue": "UndefVarError: d not defined",
     "output_type": "error",
     "traceback": [
      "UndefVarError: d not defined",
      "",
      "Stacktrace:",
      " [1] top-level scope",
      "   @ In[8]:1",
      " [2] eval",
      "   @ .\\boot.jl:373 [inlined]",
      " [3] include_string(mapexpr::typeof(REPL.softscope), mod::Module, code::String, filename::String)",
      "   @ Base .\\loading.jl:1196"
     ]
    }
   ],
   "source": [
    "# dx = d[1:n]\n",
    "# println(dx)\n",
    "# println(x)\n",
    "# alpha=0.1\n",
    "# println(-alpha*x[dx.<0]./dx[dx.<0])\n",
    "# 2.44/-0.52401550707"
   ]
  },
  {
   "cell_type": "code",
   "execution_count": 11,
   "metadata": {},
   "outputs": [
    {
     "data": {
      "text/plain": [
       "(34,)"
      ]
     },
     "execution_count": 11,
     "metadata": {},
     "output_type": "execute_result"
    }
   ],
   "source": [
    "x1_traj_pd, x2_traj_pd = primal_dual(c,A,b,x0,p0; beta=0.5, epsilon=1e-9, max_iter=1000,alpha=0.9)\n",
    "size(x1_traj_pd)"
   ]
  },
  {
   "cell_type": "code",
   "execution_count": 216,
   "metadata": {},
   "outputs": [
    {
     "data": {
      "text/plain": [
       "0.9999999998408022"
      ]
     },
     "execution_count": 216,
     "metadata": {},
     "output_type": "execute_result"
    }
   ],
   "source": [
    "x2_traj_pd[end]"
   ]
  },
  {
   "cell_type": "code",
   "execution_count": 223,
   "metadata": {},
   "outputs": [
    {
     "data": {
      "text/plain": [
       "((58,), 1.5919798812547015e-10)"
      ]
     },
     "execution_count": 223,
     "metadata": {},
     "output_type": "execute_result"
    }
   ],
   "source": [
    "x1_traj_a, x2_traj_a = affine_scaling(c, A, b, x0)\n",
    "size(x1_traj_a),abs(x1_traj_pd[end]-x1_traj_pd[end-1])"
   ]
  },
  {
   "cell_type": "code",
   "execution_count": 210,
   "metadata": {},
   "outputs": [
    {
     "data": {
      "text/plain": [
       "(0.9999998849647512, 1.0000000877494506, 0.9999999998706265, 0.9999999998706267)"
      ]
     },
     "execution_count": 210,
     "metadata": {},
     "output_type": "execute_result"
    }
   ],
   "source": [
    "x1_traj_a[end],x2_traj_a[end],x1_traj_pd[end],x2_traj_pd[end]"
   ]
  },
  {
   "cell_type": "code",
   "execution_count": 214,
   "metadata": {},
   "outputs": [
    {
     "data": {
      "image/png": "[encoded data removed]",
      "text/plain": [
       "Figure(PyObject <Figure size 640x480 with 1 Axes>)"
      ]
     },
     "metadata": {},
     "output_type": "display_data"
    },
    {
     "data": {
      "text/plain": [
       "PyObject <matplotlib.legend.Legend object at 0x000000004DFB18E0>"
      ]
     },
     "execution_count": 214,
     "metadata": {},
     "output_type": "execute_result"
    }
   ],
   "source": [
    "using PyPlot\n",
    "fig = figure()\n",
    "plot(x1_traj_a, x2_traj_a, \"o-\", label=\"Affine Scaling\")\n",
    "plot(x1_traj_pd, x2_traj_pd, \"*-\", label=\"Primal Dual Method\")\n",
    "legend(loc=\"upper right\")\n",
    "# savefig(\"primal_path_following.pdf\")\n",
    "# savefig(\"primal_path_following.png\")\n",
    "# close(fig)"
   ]
  },
  {
   "cell_type": "markdown",
   "metadata": {},
   "source": [
    "## References \n",
    "\n",
    "[1] Kwon, C. (2019). Julia Programming for Operations Research 2/e. Softcover.Io. https://www.softcover.io/read/7b8eb7d0/juliabook2/interior#cid40\n",
    "\n",
    "[2] Bertsimas, D., Tsitsiklis, J. N., & Tsitsiklis, J. (1997). Introduction to Linear Optimization (Athena Scientific Series in Optimization and Neural Computation, 6) (1st ed.). Athena Scientific."
   ]
  }
 ],
 "metadata": {
  "kernelspec": {
   "display_name": "Julia 1.7.3",
   "language": "julia",
   "name": "julia-1.7"
  },
  "language_info": {
   "file_extension": ".jl",
   "mimetype": "application/julia",
   "name": "julia",
   "version": "1.7.3"
  }
 },
 "nbformat": 4,
 "nbformat_minor": 4
}
